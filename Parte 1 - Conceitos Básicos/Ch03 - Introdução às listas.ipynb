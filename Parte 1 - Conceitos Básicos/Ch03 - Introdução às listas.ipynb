{
 "cells": [
  {
   "cell_type": "code",
   "execution_count": 3,
   "metadata": {},
   "outputs": [
    {
     "name": "stdout",
     "output_type": "stream",
     "text": [
      "Marina\n",
      "Otávio\n",
      "Theo\n",
      "João\n",
      "\n"
     ]
    }
   ],
   "source": [
    "# 3.1 – Nomes: \n",
    "\n",
    "# Armazene os nomes de alguns de seus amigos em uma lista chamada names. Exiba o nome de cada pessoa acessando cada elemento da lista, um de cada vez.\n",
    "\n",
    "nomes = ['Marina', 'Otávio', 'Theo', 'João']\n",
    "\n",
    "print(f'{nomes[0]}\\n'\n",
    "      f'{nomes[1]}\\n'\n",
    "      f'{nomes[2]}\\n'\n",
    "      f'{nomes[3]}\\n')"
   ]
  },
  {
   "cell_type": "code",
   "execution_count": 4,
   "metadata": {},
   "outputs": [
    {
     "name": "stdout",
     "output_type": "stream",
     "text": [
      "Olá, Marina, tudo bem?\n",
      "Olá, Otávio, tudo bem?\n",
      "Olá, Theo, tudo bem?\n",
      "Olá, João, tudo bem?\n",
      "\n"
     ]
    }
   ],
   "source": [
    "# 3.2 – Saudações: \n",
    "\n",
    "# Comece com a lista usada no Exercício 3.1, mas em vez de simplesmente exibir o nome de cada pessoa, apresente uma mensagem a elas. O texto de cada mensagem deve ser o mesmo, porém cada mensagem deve estar personalizada com o nome da pessoa.\n",
    "\n",
    "nomes = ['Marina', 'Otávio', 'Theo', 'João']\n",
    "\n",
    "print(f'Olá, {nomes[0]}, tudo bem?\\n'\n",
    "      f'Olá, {nomes[1]}, tudo bem?\\n'\n",
    "      f'Olá, {nomes[2]}, tudo bem?\\n'\n",
    "      f'Olá, {nomes[3]}, tudo bem?\\n')"
   ]
  },
  {
   "cell_type": "code",
   "execution_count": 5,
   "metadata": {},
   "outputs": [
    {
     "name": "stdout",
     "output_type": "stream",
     "text": [
      "Gostaria muito de ter um Subaro.\n",
      "Porche é uma marca alemã de carros.\n",
      "Vi uma Mercededs na rua esses dias.\n"
     ]
    }
   ],
   "source": [
    "# 3.3 – Sua própria lista:\n",
    "\n",
    "# Pense em seu meio de transporte preferido, como motocicleta ou carro, e crie uma lista que armazene vários exemplos. Utilize sua lista para exibir uma série de frases sobre esses itens, como “Gostaria de ter uma moto Honda”.\n",
    "\n",
    "carros = ['subaro', 'porche', 'mercededs']\n",
    "\n",
    "print(f\"Gostaria muito de ter um {carros[0].title()}.\\n\" \n",
    "      f\"{carros[1].title()} é uma marca alemã de carros.\\n\" \n",
    "      f\"Vi uma {carros[2].title()} na rua esses dias.\")"
   ]
  },
  {
   "cell_type": "code",
   "execution_count": 7,
   "metadata": {},
   "outputs": [
    {
     "name": "stdout",
     "output_type": "stream",
     "text": [
      "Olá, Marina, tudo bem? Quer sair para jantar hoje à noite?\n",
      "Olá, Otávio, tudo bem? Quer sair para jantar hoje à noite?\n",
      "Olá, Theo, tudo bem? Quer sair para jantar hoje à noite?\n",
      "\n"
     ]
    }
   ],
   "source": [
    "# 3.4 – Lista de convidados: \n",
    "\n",
    "# Se pudesse convidar alguém, vivo ou morto, para o jantar, quem você convidaria? Crie uma lista que inclua pelo menos três pessoas que você gostaria de convidar para jantar. Em seguida, utilize sua lista para exibir uma mensagem para cada pessoa, convidando-a para jantar.\n",
    "\n",
    "nomes = ['Marina', 'Otávio', 'Theo']\n",
    "\n",
    "print(f'Olá, {nomes[0]}, tudo bem? Quer sair para jantar hoje à noite?\\n'\n",
    "      f'Olá, {nomes[1]}, tudo bem? Quer sair para jantar hoje à noite?\\n'\n",
    "      f'Olá, {nomes[2]}, tudo bem? Quer sair para jantar hoje à noite?\\n')"
   ]
  },
  {
   "cell_type": "code",
   "execution_count": 10,
   "metadata": {},
   "outputs": [
    {
     "name": "stdout",
     "output_type": "stream",
     "text": [
      "Olá, Marina, tudo bem? Quer sair para jantar hoje à noite?\n",
      "Olá, Otávio, tudo bem? Quer sair para jantar hoje à noite?\n",
      "Olá, Theo, tudo bem? Quer sair para jantar hoje à noite?\n",
      "\n",
      "Marina não poderá comparecer hoje.\n",
      "\n",
      "Olá, Murilo, tudo bem? Quer sair para jantar hoje à noite?\n",
      "Olá, Otávio, tudo bem? Quer sair para jantar hoje à noite?\n",
      "Olá, Theo, tudo bem? Quer sair para jantar hoje à noite?\n",
      "\n"
     ]
    }
   ],
   "source": [
    "# 3.5 – Alterando a lista de convidados:\n",
    "\n",
    "# Você acabou de saber que um de seus convidados não poderá comparecer ao jantar, portanto será necessário enviar um novo conjunto de convites. Você deverá pensar em outra pessoa para convidar.\n",
    "\n",
    "# Comece com seu programa do Exercício 3.4. Acrescente uma instrução print no final de seu programa, especificando o nome do convidado que não poderá comparecer.\n",
    "\n",
    "# Modifique sua lista, substituindo o nome do convidado que não poderá comparecer pelo nome da nova pessoa que você está convidando.\n",
    "\n",
    "# Exiba um segundo conjunto de mensagens com o convite, uma para cada pessoa que continua presente em sua lista.\n",
    "\n",
    "nomes = ['Marina', 'Otávio', 'Theo']\n",
    "\n",
    "print(f'Olá, {nomes[0]}, tudo bem? Quer sair para jantar hoje à noite?\\n'\n",
    "      f'Olá, {nomes[1]}, tudo bem? Quer sair para jantar hoje à noite?\\n'\n",
    "      f'Olá, {nomes[2]}, tudo bem? Quer sair para jantar hoje à noite?\\n\\n'\n",
    "      f'{nomes[0]} não poderá comparecer hoje.\\n')\n",
    "\n",
    "nomes[0] = 'Murilo'\n",
    "\n",
    "print(f'Olá, {nomes[0]}, tudo bem? Quer sair para jantar hoje à noite?\\n'\n",
    "      f'Olá, {nomes[1]}, tudo bem? Quer sair para jantar hoje à noite?\\n'\n",
    "      f'Olá, {nomes[2]}, tudo bem? Quer sair para jantar hoje à noite?\\n')"
   ]
  },
  {
   "cell_type": "code",
   "execution_count": 14,
   "metadata": {},
   "outputs": [
    {
     "name": "stdout",
     "output_type": "stream",
     "text": [
      "Olá, Marina, tudo bem? Quer sair para jantar hoje à noite?\n",
      "Olá, Otávio, tudo bem? Quer sair para jantar hoje à noite?\n",
      "Olá, Theo, tudo bem? Quer sair para jantar hoje à noite?\n",
      "\n",
      "Marina não poderá comparecer hoje.\n",
      "\n",
      "Olá, Murilo, tudo bem? Quer sair para jantar hoje à noite?\n",
      "Olá, Otávio, tudo bem? Quer sair para jantar hoje à noite?\n",
      "Olá, Theo, tudo bem? Quer sair para jantar hoje à noite?\n",
      "\n",
      "Encontrei uma mesa maior!\n",
      "\n",
      "Olá, Bianca, tudo bem? Quer sair para jantar hoje à noite?\n",
      "Olá, Murilo, tudo bem? Quer sair para jantar hoje à noite?\n",
      "Olá, Otávio, tudo bem? Quer sair para jantar hoje à noite?\n",
      "Olá, Davi, tudo bem? Quer sair para jantar hoje à noite?\n",
      "Olá, Theo, tudo bem? Quer sair para jantar hoje à noite?\n",
      "Olá, Kubo, tudo bem? Quer sair para jantar hoje à noite?\n",
      "\n"
     ]
    }
   ],
   "source": [
    "# 3.6 – Mais convidados: \n",
    "\n",
    "# Você acabou de encontrar uma mesa de jantar maior, portanto agora tem mais espaço disponível. Pense em mais três convidados para o jantar.\n",
    "\n",
    "# Comece com seu programa do Exercício 3.4 ou do Exercício 3.5. Acrescente uma instrução print no final de seu programa informando às pessoas que você encontrou uma mesa de jantar maior.\n",
    "\n",
    "# Utilize insert() para adicionar um novo convidado no início de sua lista.\n",
    "\n",
    "# Utilize insert() para adicionar um novo convidado no meio de sua lista.\n",
    "\n",
    "# Utilize append() para adicionar um novo convidado no final de sua lista.\n",
    "\n",
    "# Exiba um novo conjunto de mensagens de convite, uma para cada pessoa que está em sua lista.\n",
    "\n",
    "nomes = ['Marina', 'Otávio', 'Theo']\n",
    "\n",
    "print(f'Olá, {nomes[0]}, tudo bem? Quer sair para jantar hoje à noite?\\n'\n",
    "      f'Olá, {nomes[1]}, tudo bem? Quer sair para jantar hoje à noite?\\n'\n",
    "      f'Olá, {nomes[2]}, tudo bem? Quer sair para jantar hoje à noite?\\n\\n'\n",
    "      f'{nomes[0]} não poderá comparecer hoje.\\n')\n",
    "\n",
    "nomes[0] = 'Murilo'\n",
    "\n",
    "print(f'Olá, {nomes[0]}, tudo bem? Quer sair para jantar hoje à noite?\\n'\n",
    "      f'Olá, {nomes[1]}, tudo bem? Quer sair para jantar hoje à noite?\\n'\n",
    "      f'Olá, {nomes[2]}, tudo bem? Quer sair para jantar hoje à noite?\\n\\n'\n",
    "      'Encontrei uma mesa maior!\\n')\n",
    "\n",
    "nomes.insert(0, 'Bianca')\n",
    "nomes.insert(3, 'Davi')\n",
    "nomes.append('Kubo')\n",
    "\n",
    "print(f'Olá, {nomes[0]}, tudo bem? Quer sair para jantar hoje à noite?\\n'\n",
    "      f'Olá, {nomes[1]}, tudo bem? Quer sair para jantar hoje à noite?\\n'\n",
    "      f'Olá, {nomes[2]}, tudo bem? Quer sair para jantar hoje à noite?\\n'\n",
    "      f'Olá, {nomes[3]}, tudo bem? Quer sair para jantar hoje à noite?\\n'\n",
    "      f'Olá, {nomes[4]}, tudo bem? Quer sair para jantar hoje à noite?\\n'\n",
    "      f'Olá, {nomes[5]}, tudo bem? Quer sair para jantar hoje à noite?\\n')"
   ]
  },
  {
   "cell_type": "code",
   "execution_count": 21,
   "metadata": {},
   "outputs": [
    {
     "name": "stdout",
     "output_type": "stream",
     "text": [
      "Olá, Marina, tudo bem? Quer sair para jantar hoje à noite?\n",
      "Olá, Otávio, tudo bem? Quer sair para jantar hoje à noite?\n",
      "Olá, Theo, tudo bem? Quer sair para jantar hoje à noite?\n",
      "\n",
      "Marina não poderá comparecer hoje.\n",
      "\n",
      "Olá, Murilo, tudo bem? Quer sair para jantar hoje à noite?\n",
      "Olá, Otávio, tudo bem? Quer sair para jantar hoje à noite?\n",
      "Olá, Theo, tudo bem? Quer sair para jantar hoje à noite?\n",
      "\n",
      "Encontrei uma mesa maior!\n",
      "\n",
      "Olá, Bianca, tudo bem? Quer sair para jantar hoje à noite?\n",
      "Olá, Murilo, tudo bem? Quer sair para jantar hoje à noite?\n",
      "Olá, Otávio, tudo bem? Quer sair para jantar hoje à noite?\n",
      "Olá, Davi, tudo bem? Quer sair para jantar hoje à noite?\n",
      "Olá, Theo, tudo bem? Quer sair para jantar hoje à noite?\n",
      "Olá, Kubo, tudo bem? Quer sair para jantar hoje à noite?\n",
      "\n",
      "Agora só posso convidadar duas pessoas\n",
      "\n",
      "Olá, Kubo, cancela o jantar.\n",
      "Olá, Theo, cancela o jantar.\n",
      "Olá, Davi, cancela o jantar.\n",
      "Olá, Otávio, cancela o jantar.\n",
      "\n",
      "Olá, Bianca, você ainda está convidada.\n",
      "Olá, Murilo, você ainda está convidado.\n",
      "\n",
      "Lista vazia: []\n"
     ]
    }
   ],
   "source": [
    "# 3.7 – Reduzindo a lista de convidados: \n",
    "\n",
    "# Você acabou de descobrir que sua nova mesa de jantar não chegará a tempo para o jantar e tem espaço para somente dois convidados.\n",
    "\n",
    "# Comece com seu programa do Exercício 3.6. Acrescente uma nova linha que mostre uma mensagem informando que você pode convidar apenas duas pessoas para o jantar.\n",
    "\n",
    "# Utilize pop() para remover os convidados de sua lista, um de cada vez, até que apenas dois nomes permaneçam em sua lista. Sempre que remover um nome de sua lista, mostre uma mensagem a essa pessoa, permitindo que ela saiba que você sente muito por não poder convidá-la para o jantar.\n",
    "\n",
    "# Apresente uma mensagem para cada uma das duas pessoas que continuam na lista, permitindo que elas saibam que ainda estão convidadas.\n",
    "\n",
    "# Utilize del para remover os dois últimos nomes de sua lista, de modo que você tenha uma lista vazia. Mostre sua lista para garantir que você realmente tem uma lista vazia no final de seu programa.\n",
    "\n",
    "nomes = ['Marina', 'Otávio', 'Theo']\n",
    "\n",
    "print(f'Olá, {nomes[0]}, tudo bem? Quer sair para jantar hoje à noite?\\n'\n",
    "      f'Olá, {nomes[1]}, tudo bem? Quer sair para jantar hoje à noite?\\n'\n",
    "      f'Olá, {nomes[2]}, tudo bem? Quer sair para jantar hoje à noite?\\n\\n'\n",
    "      f'{nomes[0]} não poderá comparecer hoje.\\n')\n",
    "\n",
    "nomes[0] = 'Murilo'\n",
    "\n",
    "print(f'Olá, {nomes[0]}, tudo bem? Quer sair para jantar hoje à noite?\\n'\n",
    "      f'Olá, {nomes[1]}, tudo bem? Quer sair para jantar hoje à noite?\\n'\n",
    "      f'Olá, {nomes[2]}, tudo bem? Quer sair para jantar hoje à noite?\\n\\n'\n",
    "      'Encontrei uma mesa maior!\\n')\n",
    "\n",
    "nomes.insert(0, 'Bianca')\n",
    "nomes.insert(3, 'Davi')\n",
    "nomes.append('Kubo')\n",
    "\n",
    "print(f'Olá, {nomes[0]}, tudo bem? Quer sair para jantar hoje à noite?\\n'\n",
    "      f'Olá, {nomes[1]}, tudo bem? Quer sair para jantar hoje à noite?\\n'\n",
    "      f'Olá, {nomes[2]}, tudo bem? Quer sair para jantar hoje à noite?\\n'\n",
    "      f'Olá, {nomes[3]}, tudo bem? Quer sair para jantar hoje à noite?\\n'\n",
    "      f'Olá, {nomes[4]}, tudo bem? Quer sair para jantar hoje à noite?\\n'\n",
    "      f'Olá, {nomes[5]}, tudo bem? Quer sair para jantar hoje à noite?\\n\\n'\n",
    "      'Agora só posso convidadar duas pessoas\\n')\n",
    "\n",
    "popped_people_1 = nomes.pop()\n",
    "popped_people_2 = nomes.pop()\n",
    "popped_people_3 = nomes.pop()\n",
    "popped_people_4 = nomes.pop()\n",
    "\n",
    "print(f'Olá, {popped_people_1}, cancela o jantar.\\n'\n",
    "      f'Olá, {popped_people_2}, cancela o jantar.\\n'\n",
    "      f'Olá, {popped_people_3}, cancela o jantar.\\n'\n",
    "      f'Olá, {popped_people_4}, cancela o jantar.\\n\\n'\n",
    "      f'Olá, {nomes[0]}, você ainda está convidada.\\n'\n",
    "      f'Olá, {nomes[1]}, você ainda está convidado.\\n')\n",
    "\n",
    "del nomes[0]\n",
    "del nomes[0]\n",
    "\n",
    "print(f'Lista vazia: {nomes}')"
   ]
  }
 ],
 "metadata": {
  "kernelspec": {
   "display_name": "Python 3",
   "language": "python",
   "name": "python3"
  },
  "language_info": {
   "codemirror_mode": {
    "name": "ipython",
    "version": 3
   },
   "file_extension": ".py",
   "mimetype": "text/x-python",
   "name": "python",
   "nbconvert_exporter": "python",
   "pygments_lexer": "ipython3",
   "version": "3.12.0"
  }
 },
 "nbformat": 4,
 "nbformat_minor": 2
}
