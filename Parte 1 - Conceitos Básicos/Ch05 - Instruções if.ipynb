{
 "cells": [
  {
   "cell_type": "code",
   "execution_count": 3,
   "metadata": {},
   "outputs": [
    {
     "name": "stdout",
     "output_type": "stream",
     "text": [
      "You earned 5 points\n"
     ]
    }
   ],
   "source": [
    "# 5.3 – Cores de alienígenas #1: \n",
    "\n",
    "# Suponha que um alienígena acabou de ser atingido em um jogo. Crie uma variável chamada alien_color e atribua-lhe um valor igual a 'green', 'yellow' ou 'red'.\n",
    "\n",
    "# Escreva uma instrução if para testar se a cor do alienígena é verde. Se for, mostre uma mensagem informando que o jogador acabou de ganhar cinco pontos.\n",
    "\n",
    "# Escreva uma versão desse programa em que o teste if passe e outro em que ele falhe. (A versão que falha não terá nenhuma saída.)\n",
    "\n",
    "alien_color = 'green'\n",
    "\n",
    "if alien_color == 'green':\n",
    "    print('You earned 5 points.')\n",
    "\n",
    "alien_color = 'red'\n",
    "\n",
    "if alien_color == 'grend':\n",
    "    print('You earned 5 points')"
   ]
  },
  {
   "cell_type": "code",
   "execution_count": 4,
   "metadata": {},
   "outputs": [
    {
     "name": "stdout",
     "output_type": "stream",
     "text": [
      "You earned 5 points.\n",
      "You earned 10 points\n"
     ]
    }
   ],
   "source": [
    "# 5.4 – Cores de alienígenas 2: \n",
    "\n",
    "# Escolha uma cor para um alienígena, como foi feito no Exercício 5.3, e escreva uma cadeia if-else.\n",
    "\n",
    "# Se a cor do alienígena for verde, mostre uma frase informando que o jogador acabou de ganhar cinco pontos por atingir o alienígena.\n",
    "\n",
    "# Se a cor do alienígena não for verde, mostre uma frase informando que o jogador acabou de ganhar dez pontos.\n",
    "\n",
    "# Escreva uma versão desse programa que execute o bloco if e outro que execute o bloco else.\n",
    "\n",
    "alien_color = 'green'\n",
    "\n",
    "if alien_color == 'green':\n",
    "    print('You earned 5 points.')\n",
    "else:\n",
    "    print('You earned 10 points')\n",
    "\n",
    "alien_color = 'red'\n",
    "\n",
    "if alien_color == 'green':\n",
    "    print('You earned 5 points.')\n",
    "else:\n",
    "    print('You earned 10 points.')"
   ]
  },
  {
   "cell_type": "code",
   "execution_count": 2,
   "metadata": {},
   "outputs": [
    {
     "name": "stdout",
     "output_type": "stream",
     "text": [
      "You earned 5 points.\n",
      "You earned 10 points\n",
      "You earned 15 points.\n"
     ]
    }
   ],
   "source": [
    "# 5.5 – Cores de alienígenas #3: \n",
    "\n",
    "# Transforme sua cadeia if-else do Exercício 5.4 em uma cadeia if-elif-else.\n",
    "\n",
    "# Se o alienígena for verde, mostre uma mensagem informando que o jogador ganhou cinco pontos.\n",
    "\n",
    "# Se o alienígena for amarelo, mostre uma mensagem informando que o jogador ganhou dez pontos.\n",
    "\n",
    "# Se o alienígena for vermelho, mostre uma mensagem informando que o jogador ganhou quinze pontos.\n",
    "\n",
    "# Escreva três versões desse programa, garantindo que cada mensagem seja exibida para a cor apropriada do alienígena.\n",
    "\n",
    "alien_color = 'green'\n",
    "\n",
    "if alien_color == 'green':\n",
    "    print('You earned 5 points.')\n",
    "elif alien_color == 'yellow':\n",
    "    print('You earned 15 points.')\n",
    "else:\n",
    "    print('You earned 10 points')\n",
    "\n",
    "alien_color = 'red'\n",
    "\n",
    "if alien_color == 'green':\n",
    "    print('You earned 5 points.')\n",
    "elif alien_color == 'yellow':\n",
    "    print('You earned 15 points.')\n",
    "else:\n",
    "    print('You earned 10 points')\n",
    "\n",
    "alien_color = 'yellow'\n",
    "\n",
    "if alien_color == 'green':\n",
    "    print('You earned 5 points.')\n",
    "elif alien_color == 'yellow':\n",
    "    print('You earned 15 points.')\n",
    "else:\n",
    "    print('You earned 10 points')"
   ]
  },
  {
   "cell_type": "code",
   "execution_count": 23,
   "metadata": {},
   "outputs": [
    {
     "name": "stdout",
     "output_type": "stream",
     "text": [
      "You're old as fuck\n"
     ]
    }
   ],
   "source": [
    "# 5.6 – Estágios da vida: \n",
    "\n",
    "# Escreva uma cadeia if-elif-else que determine o estágio da vida de uma pessoa. Defina um valor para a variável age e então:\n",
    "\n",
    "# Se a pessoa tiver menos de 2 anos de idade, mostre uma mensagem dizendo que ela é um bebê.\n",
    "\n",
    "# Se a pessoa tiver pelo menos 2 anos, mas menos de 4, mostre uma mensagem dizendo que ela é uma criança.\n",
    "\n",
    "#Se a pessoa tiver pelo menos 4 anos, mas menos de 13, mostre uma mensagem dizendo que ela é um(a) garoto(a).\n",
    "\n",
    "# Se a pessoa tiver pelo menos 13 anos, mas menos de 20, mostre uma mensagem dizendo que ela é um(a) adolescente.\n",
    "\n",
    "# Se a pessoa tiver pelo menos 20 anos, mas menos de 65, mostre uma mensagem dizendo que ela é adulto.\n",
    "\n",
    "# Se a pessoa tiver 65 anos ou mais, mostre uma mensagem dizendo que essa pessoa é idoso.\n",
    "\n",
    "age = 67\n",
    "\n",
    "if age < 2:\n",
    "    print(\"You're a baby!\")\n",
    "elif age < 4:\n",
    "    print(\"You're a toddler!\")\n",
    "elif age < 13:\n",
    "    print(\"You're a kid!\")\n",
    "elif age < 20:\n",
    "    print(\"You're a teenager!\")\n",
    "elif age < 65:\n",
    "    print(\"You're an adult!\")\n",
    "else:\n",
    "    print(\"You're an elder!\")"
   ]
  },
  {
   "cell_type": "code",
   "execution_count": 25,
   "metadata": {},
   "outputs": [
    {
     "name": "stdout",
     "output_type": "stream",
     "text": [
      "You like apples\n",
      "You like bananas\n",
      "You like oranges\n"
     ]
    }
   ],
   "source": [
    "# 5.7 – Fruta favorita: \n",
    "\n",
    "# Faça uma lista de suas frutas favoritas e, então, escreva uma série de instruções if independentes que verifiquem se determinadas frutas estão em sua lista.\n",
    "\n",
    "# Crie uma lista com suas três frutas favoritas e chame-a de favorite_fruits.\n",
    "\n",
    "# Escreva cinco instruções if. Cada instrução deve verificar se uma determinada fruta está em sua lista. Se estiver, o bloco if deverá exibir uma frase, por exemplo, Você realmente gosta de bananas!\n",
    "\n",
    "fruits = ['maçã', 'banana', 'laranja']\n",
    "\n",
    "if 'maçã' in fruits:\n",
    "    print(\"You like apples\")\n",
    "if 'banana' in fruits:\n",
    "    print(\"You like bananas\")\n",
    "if 'laranja' in fruits:\n",
    "    print(\"You like oranges\")\n",
    "if 'kiwi' in fruits:\n",
    "    print(\"You like kiwis\")\n",
    "if 'abacaxi' in fruits:\n",
    "    print(\"You like pineapples\")"
   ]
  },
  {
   "cell_type": "code",
   "execution_count": 34,
   "metadata": {},
   "outputs": [
    {
     "name": "stdout",
     "output_type": "stream",
     "text": [
      "Welcome again, admin. Would you like to do something new?\n",
      "\n",
      "Hello otavio! Welcome to the site.\n",
      "Hello joaozin23! Welcome to the site.\n",
      "Hello hyperpaca! Welcome to the site.\n",
      "Hello tralala! Welcome to the site.\n"
     ]
    }
   ],
   "source": [
    "# 5.8 – Olá admin: \n",
    "\n",
    "# Crie uma lista com cinco ou mais nomes de usuários, incluindo o nome 'admin'. Suponha que você esteja escrevendo um código que exibirá uma saudação a cada usuário depois que eles fizerem login em um site. Percorra a lista com um laço e mostre uma saudação para cada usuário:\n",
    "\n",
    "# Se o nome do usuário for 'admin', mostre uma saudação especial, por exemplo, Olá admin, gostaria de ver um relatório de status?\n",
    "\n",
    "# Caso contrário, mostre uma saudação genérica, como Olá Eric, obrigado por fazer login novamente.\n",
    "\n",
    "names = ['admin', 'otavio', 'joaozin23', 'hyperpaca', 'tralala']\n",
    "\n",
    "for name in names:\n",
    "    if name == 'admin':\n",
    "        print('Welcome again, admin. Would you like to do something new?\\n')\n",
    "    else:\n",
    "        print(f'Hello {name}! Welcome to the site.')"
   ]
  },
  {
   "cell_type": "code",
   "execution_count": 39,
   "metadata": {},
   "outputs": [
    {
     "name": "stdout",
     "output_type": "stream",
     "text": [
      "Welcome again, admin. Would you like to do something new?\n",
      "Hello otavio! Welcome to the site.\n",
      "Hello joaozin23! Welcome to the site.\n",
      "Hello hyperpaca! Welcome to the site.\n",
      "Hello tralala! Welcome to the site.\n",
      "\n",
      "Your list are empty.\n"
     ]
    }
   ],
   "source": [
    "# 5.9 – Sem usuários: Acrescente um teste if em hello_admin.py para garantir que a lista de usuários não esteja vazia.\n",
    "\n",
    "# Se a lista estiver vazia, mostre a mensagem Precisamos encontrar alguns usuários!\n",
    "\n",
    "# Remova todos os nomes de usuário de sua lista e certifique-se de que a mensagem correta seja exibida.\n",
    "\n",
    "names = ['admin', 'otavio', 'joaozin23', 'hyperpaca', 'tralala']\n",
    "\n",
    "if names:\n",
    "    for name in names:\n",
    "        if name == 'admin':\n",
    "            print('Welcome again, admin. Would you like to do something new?')\n",
    "        else:\n",
    "            print(f'Hello {name}! Welcome to the site.')\n",
    "else:\n",
    "    print('Your list are empty.')\n",
    "\n",
    "print('')\n",
    "\n",
    "names = []\n",
    "\n",
    "if names:\n",
    "    for name in names:\n",
    "        if name == 'admin':\n",
    "            print('Welcome again, admin. Would you like to do something new?\\n')\n",
    "        else:\n",
    "            print(f'Hello {name}! Welcome to the site.')\n",
    "else:\n",
    "    print('Your list are empty.')"
   ]
  },
  {
   "cell_type": "code",
   "execution_count": 40,
   "metadata": {},
   "outputs": [
    {
     "name": "stdout",
     "output_type": "stream",
     "text": [
      "The nickname 'admin' is already in use.\n",
      "The nickname 'otavio' is already in use.\n",
      "Welcome to the site youtuber32\n",
      "Welcome to the site mr.economics\n",
      "Welcome to the site twsiter_master\n"
     ]
    }
   ],
   "source": [
    "# 5.10 – Verificando nomes de usuários: \n",
    "\n",
    "# Faça o seguinte para criar um programa que simule o modo como os sites garantem que todos tenham um nome de usuário único.\n",
    "\n",
    "# Crie uma lista chamada current_users com cinco ou mais nomes de usuários.\n",
    "\n",
    "# Crie outra lista chamada new_users com cinco nomes de usuários. Garanta que um ou dois dos novos usuários também estejam na lista current_users.\n",
    "\n",
    "# Percorra a lista new_users com um laço para ver se cada novo nome de usuário já foi usado. Em caso afirmativo, mostre uma mensagem informando que a pessoa deverá fornecer um novo nome. Se um nome de usuário não foi usado, apresente uma mensagem dizendo que o nome do usuário está disponível.\n",
    "\n",
    "# Certifique-se de que sua comparação não levará em conta as diferenças entre letras maiúsculas e minúsculas. Se 'John' foi usado, 'JOHN' não deverá ser aceito.\n",
    "\n",
    "current_users = ['admin', 'otavio', 'joaozin23', 'hyperpaca', 'tralala']\n",
    "new_users = ['admin', 'otavio', 'youtuber32', 'mr.economics', 'twsiter_master']\n",
    "\n",
    "for new_user in new_users:\n",
    "    if new_user in current_users:\n",
    "        print(f\"The nickname '{new_user}' is already in use.\")\n",
    "    else:\n",
    "        print(f'Welcome to the site {new_user}.')"
   ]
  },
  {
   "cell_type": "code",
   "execution_count": 44,
   "metadata": {},
   "outputs": [
    {
     "name": "stdout",
     "output_type": "stream",
     "text": [
      "1st\n",
      "2nd\n",
      "3rd\n",
      "4th\n",
      "5th\n",
      "6th\n",
      "7th\n",
      "8th\n",
      "9th\n"
     ]
    }
   ],
   "source": [
    "# 5.11 – Números ordinais: \n",
    "\n",
    "# Números ordinais indicam sua posição em uma lista, por exemplo, 1st ou 2nd, em inglês. A maioria dos números ordinais nessa língua termina com th, exceto 1, 2 e 3.\n",
    "\n",
    "# Armazene os números de 1 a 9 em uma lista.\n",
    "\n",
    "# Percorra a lista com um laço.\n",
    "\n",
    "# Use uma cadeia if-elif-else no laço para exibir a terminação apropriadapara cada número ordinal. Sua saída deverá conter \"1st 2nd 3rd 4th 5th 6th 7th 8th 9th\", e cada resultado deve estar em uma linha separada.\n",
    "\n",
    "numbers = list(range(1,10))\n",
    "\n",
    "for number in numbers:\n",
    "    if number == 1:\n",
    "        print('1st')\n",
    "    elif number == 2:\n",
    "        print('2nd')\n",
    "    elif number == 3:\n",
    "        print('3rd')\n",
    "    else:\n",
    "        print(f'{number}th')"
   ]
  }
 ],
 "metadata": {
  "kernelspec": {
   "display_name": "Python 3",
   "language": "python",
   "name": "python3"
  },
  "language_info": {
   "codemirror_mode": {
    "name": "ipython",
    "version": 3
   },
   "file_extension": ".py",
   "mimetype": "text/x-python",
   "name": "python",
   "nbconvert_exporter": "python",
   "pygments_lexer": "ipython3",
   "version": "3.12.0"
  }
 },
 "nbformat": 4,
 "nbformat_minor": 2
}
