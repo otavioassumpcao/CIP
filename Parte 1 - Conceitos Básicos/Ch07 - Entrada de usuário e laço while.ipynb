{
 "cells": [
  {
   "cell_type": "code",
   "execution_count": 1,
   "metadata": {},
   "outputs": [
    {
     "name": "stdout",
     "output_type": "stream",
     "text": [
      "Vou ver se consigo um Subaru para você.\n"
     ]
    }
   ],
   "source": [
    "# 7.1 – Locação de automóveis: Escreva um programa que pergunte ao usuário qual tipo de carro ele gostaria de alugar. Mostre uma mensagem sobre esse carro, por exemplo, “Deixe-me ver se consigo um Subaru para você.”\n",
    "\n",
    "carro = input('Digite o carro que vc quer: ')\n",
    "\n",
    "print(f'Vou ver se consigo um {carro.title()} para você.')"
   ]
  },
  {
   "cell_type": "code",
   "execution_count": 6,
   "metadata": {},
   "outputs": [
    {
     "name": "stdout",
     "output_type": "stream",
     "text": [
      "Não temos mesa no momento\n"
     ]
    }
   ],
   "source": [
    "# 7.2 – Lugares em um restaurante: Escreva um programa que pergunte ao usuário quantas pessoas estão em seu grupo para jantar. Se a resposta for maior que oito, exiba uma mensagem dizendo que eles deverão esperar uma mesa. Caso contrário, informe que sua mesa está pronta.\n",
    "\n",
    "number = int(input('Mesa para qunatos?: '))\n",
    "\n",
    "if number > 8:\n",
    "    print('Não temos mesa no momento')\n",
    "else:\n",
    "    print('Sua mesa está pronta')"
   ]
  },
  {
   "cell_type": "code",
   "execution_count": 10,
   "metadata": {},
   "outputs": [
    {
     "name": "stdout",
     "output_type": "stream",
     "text": [
      "34 não é múltiplo de 10\n"
     ]
    }
   ],
   "source": [
    "# 7.3 – Múltiplos de dez: Peça um número ao usuário e, em seguida, informe se o número é múltiplo de dez ou não.\n",
    "\n",
    "numero = int(input('Digite um número: '))\n",
    "\n",
    "if numero % 10 == 0:\n",
    "    print(f'{numero} é múltiplo de 10')\n",
    "else:\n",
    "    print(f'{numero} não é múltiplo de 10')\n"
   ]
  }
 ],
 "metadata": {
  "kernelspec": {
   "display_name": "Python 3",
   "language": "python",
   "name": "python3"
  },
  "language_info": {
   "codemirror_mode": {
    "name": "ipython",
    "version": 3
   },
   "file_extension": ".py",
   "mimetype": "text/x-python",
   "name": "python",
   "nbconvert_exporter": "python",
   "pygments_lexer": "ipython3",
   "version": "3.12.0"
  }
 },
 "nbformat": 4,
 "nbformat_minor": 2
}
