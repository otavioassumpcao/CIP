{
 "cells": [
  {
   "cell_type": "code",
   "execution_count": 2,
   "metadata": {},
   "outputs": [
    {
     "name": "stdout",
     "output_type": "stream",
     "text": [
      "Vou ver se consigo um Subaru para você.\n"
     ]
    }
   ],
   "source": [
    "# 7.1 – Locação de automóveis: Escreva um programa que pergunte ao usuário qual tipo de carro ele gostaria de alugar. Mostre uma mensagem sobre esse carro, por exemplo, “Deixe-me ver se consigo um Subaru para você.”\n",
    "\n",
    "carro = input('Digite o carro que vc quer: ')\n",
    "\n",
    "print(f'Vou ver se consigo um {carro.title()} para você.')"
   ]
  },
  {
   "cell_type": "code",
   "execution_count": 3,
   "metadata": {},
   "outputs": [
    {
     "name": "stdout",
     "output_type": "stream",
     "text": [
      "Sua mesa está pronta\n"
     ]
    }
   ],
   "source": [
    "# 7.2 – Lugares em um restaurante: Escreva um programa que pergunte ao usuário quantas pessoas estão em seu grupo para jantar. Se a resposta for maior que oito, exiba uma mensagem dizendo que eles deverão esperar uma mesa. Caso contrário, informe que sua mesa está pronta.\n",
    "\n",
    "number = int(input('Mesa para qunatos?: '))\n",
    "\n",
    "if number > 8:\n",
    "    print('Não temos mesa no momento')\n",
    "else:\n",
    "    print('Sua mesa está pronta')"
   ]
  },
  {
   "cell_type": "code",
   "execution_count": 4,
   "metadata": {},
   "outputs": [
    {
     "name": "stdout",
     "output_type": "stream",
     "text": [
      "4 não é múltiplo de 10\n"
     ]
    }
   ],
   "source": [
    "# 7.3 – Múltiplos de dez: Peça um número ao usuário e, em seguida, informe se o número é múltiplo de dez ou não.\n",
    "\n",
    "numero = int(input('Digite um número: '))\n",
    "\n",
    "if numero % 10 == 0:\n",
    "    print(f'{numero} é múltiplo de 10')\n",
    "else:\n",
    "    print(f'{numero} não é múltiplo de 10')\n"
   ]
  },
  {
   "cell_type": "code",
   "execution_count": 5,
   "metadata": {},
   "outputs": [
    {
     "name": "stdout",
     "output_type": "stream",
     "text": [
      "Adicionando peperoni à sua pizza.\n",
      "Adicionando calabresa à sua pizza.\n",
      "Adicionando queijo à sua pizza.\n",
      "Adicionando sua mãe à sua pizza.\n"
     ]
    }
   ],
   "source": [
    "# 7.4 – Ingredientes para uma pizza: \n",
    "\n",
    "# Escreva um laço que peça ao usuário para fornecer uma série de ingredientes para uma pizza até que o valor 'quit' seja fornecido. À medida que cada ingrediente é especificado, apresente uma mensagem informando que você acrescentará esse ingrediente à pizza.\n",
    "\n",
    "prompt = 'Escolha os ingredientes da sua pizza: '\n",
    "prompt += 'Quando terminar, digite \"sair\".'\n",
    "\n",
    "while True:\n",
    "    ingrediente = input(prompt)\n",
    "    if ingrediente != 'sair':\n",
    "        print(f'Adicionando {ingrediente} à sua pizza.')\n",
    "    else:\n",
    "        break"
   ]
  },
  {
   "cell_type": "code",
   "execution_count": 6,
   "metadata": {},
   "outputs": [
    {
     "name": "stdout",
     "output_type": "stream",
     "text": [
      "Seu ingresso custará US$10.00\n",
      "Seu ingresso custará US$15.00\n",
      "Seu ingresso custará US$10.00\n",
      "Seu ingresso é gratuito\n",
      "Seu ingresso é gratuito\n",
      "Seu ingresso custará US$10.00\n",
      "Seu ingresso custará US$15.00\n"
     ]
    }
   ],
   "source": [
    "# 7.5 – Ingressos para o cinema: \n",
    "\n",
    "# Um cinema cobra preços diferentes para os ingressos de acordo com a idade de uma pessoa. Se uma pessoa tiver menos de 3 anos de idade, o ingresso será gratuito; se tiver entre 3 e 12 anos, o ingresso custará 10 dólares; se tiver mais de 12 anos, o ingresso custará 15 dólares. Escreva um laço em que você pergunte a idade aos usuários e, então, informe-lhes o preço do ingresso do cinema.\n",
    "\n",
    "prompt = 'Qual a sua idade (digite \"sair\" para encerrar): '\n",
    "\n",
    "while True:\n",
    "    idade = input(prompt)\n",
    "\n",
    "    if idade == 'sair':\n",
    "        break\n",
    "\n",
    "    idade = int(idade)\n",
    "        \n",
    "    if idade < 3:\n",
    "        print('Seu ingresso é gratuito')\n",
    "\n",
    "    elif idade < 13:\n",
    "        print('Seu ingresso custará US$10.00')\n",
    "\n",
    "    else:\n",
    "        print('Seu ingresso custará US$15.00')"
   ]
  },
  {
   "cell_type": "code",
   "execution_count": 10,
   "metadata": {},
   "outputs": [
    {
     "name": "stdout",
     "output_type": "stream",
     "text": [
      "Adicionando tralala à sua pizza.\n",
      "Adicionando peperoni à sua pizza.\n"
     ]
    }
   ],
   "source": [
    "# 7.6 – Três saídas: \n",
    "\n",
    "# Escreva versões diferentes do Exercício 7.4 ou do Exercício 7.5 que faça o seguinte, pelo menos uma vez:\n",
    "\n",
    "# use um teste condicional na instrução while para encerrar o laço;\n",
    "# use uma variável active para controlar o tempo que o laço executará;\n",
    "# use uma instrução break para sair do laço quando o usuário fornecer o valor 'quit'.\n",
    "\n",
    "prompt = 'Escolha os ingredientes da sua pizza: '\n",
    "prompt += 'Quando terminar, digite \"sair\".'\n",
    "\n",
    "active = True\n",
    "\n",
    "while active:\n",
    "    ingrediente = input(prompt)\n",
    "\n",
    "    if ingrediente == 'sair':\n",
    "        active = False\n",
    "\n",
    "    if ingrediente != 'sair':\n",
    "        print(f'Adicionando {ingrediente} à sua pizza.')"
   ]
  },
  {
   "cell_type": "code",
   "execution_count": null,
   "metadata": {},
   "outputs": [],
   "source": [
    "# 7.7 – Infinito: \n",
    "\n",
    "# Escreva um laço que nunca termine e execute-o. (Para encerrar o laço, pressione CTRL-C ou feche a janela que está exibindo a saída.)\n",
    "\n",
    "\n",
    "while True:\n",
    "    print('banana')"
   ]
  },
  {
   "cell_type": "code",
   "execution_count": null,
   "metadata": {},
   "outputs": [],
   "source": [
    "# 7.8 – Lanchonete: \n",
    "\n",
    "# Crie uma lista chamada sandwich_orders e a preencha com os nomes de vários sanduíches. Em seguida, crie uma lista vazia chamada finished_sandwiches. Percorra a lista de pedidos de sanduíches com um laço e mostre uma mensagem para cada pedido, por exemplo, Preparei seu sanduíche de atum. À medida que cada sanduíche for preparado, transfira-o para a lista de sanduíches prontos. Depois que todos os sanduíches estiverem prontos, mostre uma mensagem que liste cada sanduíche preparado.\n",
    "\n",
    "sandwich_orders = ['presunto', 'queijo', 'pepino', 'tomate']\n",
    "finished_sandwiches = []"
   ]
  },
  {
   "cell_type": "code",
   "execution_count": null,
   "metadata": {},
   "outputs": [],
   "source": [
    "# 7.9 – Sem pastrami: \n",
    "\n",
    "# Usando a lista sandwich_orders do Exercício 7.8, garanta que o sanduíche de 'pastrami' apareça na lista pelo menos três vezes. Acrescente um código próximo ao início de seu programa para exibir uma mensagem informando que a lanchonete está sem pastrami e, então, use um laço while para remover todas as ocorrências de 'pastrami' e sandwich_orders. Garanta que nenhum sanduíche de pastrami acabe em finished_sandwiches."
   ]
  },
  {
   "cell_type": "code",
   "execution_count": null,
   "metadata": {},
   "outputs": [],
   "source": [
    "# 7.10 – Férias dos sonhos: \n",
    "\n",
    "# Escreva um programa que faça uma enquete sobre as férias dos sonhos dos usuários. Escreva um prompt semelhante a este: Se pudesse visitar um lugar do mundo, para onde você iria? Inclua um bloco de código que apresente os resultados da enquete."
   ]
  }
 ],
 "metadata": {
  "kernelspec": {
   "display_name": "Python 3",
   "language": "python",
   "name": "python3"
  },
  "language_info": {
   "codemirror_mode": {
    "name": "ipython",
    "version": 3
   },
   "file_extension": ".py",
   "mimetype": "text/x-python",
   "name": "python",
   "nbconvert_exporter": "python",
   "pygments_lexer": "ipython3",
   "version": "3.12.0"
  }
 },
 "nbformat": 4,
 "nbformat_minor": 2
}
