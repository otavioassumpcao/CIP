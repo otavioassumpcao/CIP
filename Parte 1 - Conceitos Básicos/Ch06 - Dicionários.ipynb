{
 "cells": [
  {
   "cell_type": "code",
   "execution_count": 6,
   "metadata": {},
   "outputs": [
    {
     "name": "stdout",
     "output_type": "stream",
     "text": [
      "Otávio Assumpção:\n",
      " 21, São Paulo.\n"
     ]
    }
   ],
   "source": [
    "# 6.1 – Pessoa: \n",
    "\n",
    "# Use um dicionário para armazenar informações sobre uma pessoa que você conheça. Armazene seu primeiro nome, o sobrenome, a idade e a cidade em que ela vive. Você deverá ter chaves como first_name, last_name, age e city. Mostre cada informação armazenada em seu dicionário.\n",
    "\n",
    "person = {\n",
    "    'first_name' : 'Otávio',\n",
    "    'last_name' : 'Assumpção',\n",
    "    'age' : 21,\n",
    "    'city' : 'São Paulo',\n",
    "}\n",
    "\n",
    "print(person['first_name'],\n",
    "      f'{person['last_name']}:\\n',\n",
    "      f'{person['age']},',\n",
    "      f'{person['city']}.')\n"
   ]
  },
  {
   "cell_type": "code",
   "execution_count": 7,
   "metadata": {},
   "outputs": [
    {
     "name": "stdout",
     "output_type": "stream",
     "text": [
      "Otávio's favorite number is 8.\n",
      "Theo's favorite number is 13.\n",
      "João's favorite number is 45.\n",
      "Marina's favorite number is 27.\n",
      "Kubo's favorite number is 17.\n"
     ]
    }
   ],
   "source": [
    "# 6.2 – Números favoritos: \n",
    "\n",
    "# Use um dicionário para armazenar os números favoritos de algumas pessoas. Pense em cinco nomes e use-os como chaves em seu dicionário. Pense em um número favorito para cada pessoa e armazene cada um como um valor em seu dicionário. Exiba o nome de cada pessoa e seu número favorito. Para que seja mais divertido ainda, faça uma enquete com alguns amigos e obtenha alguns dados reais para o seu programa.\n",
    "\n",
    "favorite_numbers = {\n",
    "    'Otávio' : 8,\n",
    "    'Theo' : 13,\n",
    "    'João' : 45,\n",
    "    'Marina' : 27,\n",
    "    'Kubo' : 17,\n",
    "}\n",
    "\n",
    "num = favorite_numbers['Otávio']\n",
    "print(f\"Otávio's favorite number is {num}.\")\n",
    "\n",
    "num = favorite_numbers['Theo']\n",
    "print(f\"Theo's favorite number is {num}.\")\n",
    "\n",
    "num = favorite_numbers['João']\n",
    "print(f\"João's favorite number is {num}.\")\n",
    "\n",
    "num = favorite_numbers['Marina']\n",
    "print(f\"Marina's favorite number is {num}.\")\n",
    "\n",
    "num = favorite_numbers['Kubo']\n",
    "print(f\"Kubo's favorite number is {num}.\")"
   ]
  },
  {
   "cell_type": "code",
   "execution_count": 8,
   "metadata": {},
   "outputs": [
    {
     "name": "stdout",
     "output_type": "stream",
     "text": [
      "\n",
      "String: A series of characters.\n",
      "\n",
      "Comment: A note in a program that the Python interpreter ignores.\n",
      "\n",
      "List: A collection of items in a particular order.\n",
      "\n",
      "Loop: Work through a collection of items, one at a time.\n",
      "\n",
      "Dictionary: A collection of key-value pairs.\n"
     ]
    }
   ],
   "source": [
    "# 6.3 – Glossário: \n",
    "\n",
    "# Um dicionário Python pode ser usado para modelar um dicionário de verdade. No entanto, para evitar confusão, vamos chamá-lo de glossário.\n",
    "\n",
    "# Pense em cinco palavras relacionadas à programação que você conheceu nos capítulos anteriores. Use essas palavras como chaves em seu glossário e armazene seus significados como valores.\n",
    "\n",
    "# Mostre cada palavra e seu significado em uma saída formatada de modo elegante. Você pode exibir a palavra seguida de dois-pontos e depois o seu significado, ou apresentar a palavra em uma linha e então exibir seu significado indentado em uma segunda linha. Utilize o caractere de quebra de linha (\\n) para inserir uma linha em branco entre cada par palavra-significado em sua saída.\n",
    "\n",
    "glossary = {\n",
    "    'string': 'A series of characters.',\n",
    "    'comment': 'A note in a program that the Python interpreter ignores.',\n",
    "    'list': 'A collection of items in a particular order.',\n",
    "    'loop': 'Work through a collection of items, one at a time.',\n",
    "    'dictionary': \"A collection of key-value pairs.\",\n",
    "}\n",
    "\n",
    "word = 'string'\n",
    "print(f\"\\n{word.title()}: {glossary[word]}\")\n",
    "\n",
    "word = 'comment'\n",
    "print(f\"\\n{word.title()}: {glossary[word]}\")\n",
    "\n",
    "word = 'list'\n",
    "print(f\"\\n{word.title()}: {glossary[word]}\")\n",
    "\n",
    "word = 'loop'\n",
    "print(f\"\\n{word.title()}: {glossary[word]}\")\n",
    "\n",
    "word = 'dictionary'\n",
    "print(f\"\\n{word.title()}: {glossary[word]}\")"
   ]
  }
 ],
 "metadata": {
  "kernelspec": {
   "display_name": "Python 3",
   "language": "python",
   "name": "python3"
  },
  "language_info": {
   "codemirror_mode": {
    "name": "ipython",
    "version": 3
   },
   "file_extension": ".py",
   "mimetype": "text/x-python",
   "name": "python",
   "nbconvert_exporter": "python",
   "pygments_lexer": "ipython3",
   "version": "3.12.0"
  }
 },
 "nbformat": 4,
 "nbformat_minor": 2
}
