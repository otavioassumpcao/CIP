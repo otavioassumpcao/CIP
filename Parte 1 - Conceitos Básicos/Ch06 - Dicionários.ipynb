{
 "cells": [
  {
   "cell_type": "code",
   "execution_count": 4,
   "metadata": {},
   "outputs": [
    {
     "name": "stdout",
     "output_type": "stream",
     "text": [
      "Otávio Assumpção:\n",
      " 21, São Paulo.\n"
     ]
    }
   ],
   "source": [
    "# 6.1 – Pessoa: \n",
    "\n",
    "# Use um dicionário para armazenar informações sobre uma pessoa que você conheça. Armazene seu primeiro nome, o sobrenome, a idade e a cidade em que ela vive. Você deverá ter chaves como first_name, last_name, age e city. Mostre cada informação armazenada em seu dicionário.\n",
    "\n",
    "person = {\n",
    "    'first_name' : 'Otávio',\n",
    "    'last_name' : 'Assumpção',\n",
    "    'age' : 21,\n",
    "    'city' : 'São Paulo',\n",
    "    }\n",
    "\n",
    "print(\n",
    "    person['first_name'],\n",
    "      f'{person['last_name']}:\\n',\n",
    "      f'{person['age']},',\n",
    "      f'{person['city']}.')"
   ]
  },
  {
   "cell_type": "code",
   "execution_count": 7,
   "metadata": {},
   "outputs": [
    {
     "name": "stdout",
     "output_type": "stream",
     "text": [
      "Otávio's favorite number is 8.\n",
      "Theo's favorite number is 13.\n",
      "João's favorite number is 45.\n",
      "Marina's favorite number is 27.\n",
      "Kubo's favorite number is 17.\n"
     ]
    }
   ],
   "source": [
    "# 6.2 – Números favoritos: \n",
    "\n",
    "# Use um dicionário para armazenar os números favoritos de algumas pessoas. Pense em cinco nomes e use-os como chaves em seu dicionário. Pense em um número favorito para cada pessoa e armazene cada um como um valor em seu dicionário. Exiba o nome de cada pessoa e seu número favorito. Para que seja mais divertido ainda, faça uma enquete com alguns amigos e obtenha alguns dados reais para o seu programa.\n",
    "\n",
    "favorite_numbers = {\n",
    "    'Otávio' : 8,\n",
    "    'Theo' : 13,\n",
    "    'João' : 45,\n",
    "    'Marina' : 27,\n",
    "    'Kubo' : 17,\n",
    "    }\n",
    "\n",
    "num = favorite_numbers['Otávio']\n",
    "print(f\"Otávio's favorite number is {num}.\")\n",
    "\n",
    "num = favorite_numbers['Theo']\n",
    "print(f\"Theo's favorite number is {num}.\")\n",
    "\n",
    "num = favorite_numbers['João']\n",
    "print(f\"João's favorite number is {num}.\")\n",
    "\n",
    "num = favorite_numbers['Marina']\n",
    "print(f\"Marina's favorite number is {num}.\")\n",
    "\n",
    "num = favorite_numbers['Kubo']\n",
    "print(f\"Kubo's favorite number is {num}.\")"
   ]
  },
  {
   "cell_type": "code",
   "execution_count": 8,
   "metadata": {},
   "outputs": [
    {
     "name": "stdout",
     "output_type": "stream",
     "text": [
      "\n",
      "String: A series of characters.\n",
      "\n",
      "Comment: A note in a program that the Python interpreter ignores.\n",
      "\n",
      "List: A collection of items in a particular order.\n",
      "\n",
      "Loop: Work through a collection of items, one at a time.\n",
      "\n",
      "Dictionary: A collection of key-value pairs.\n"
     ]
    }
   ],
   "source": [
    "# 6.3 – Glossário: \n",
    "\n",
    "# Um dicionário Python pode ser usado para modelar um dicionário de verdade. No entanto, para evitar confusão, vamos chamá-lo de glossário.\n",
    "\n",
    "# Pense em cinco palavras relacionadas à programação que você conheceu nos capítulos anteriores. Use essas palavras como chaves em seu glossário e armazene seus significados como valores.\n",
    "\n",
    "# Mostre cada palavra e seu significado em uma saída formatada de modo elegante. Você pode exibir a palavra seguida de dois-pontos e depois o seu significado, ou apresentar a palavra em uma linha e então exibir seu significado indentado em uma segunda linha. Utilize o caractere de quebra de linha (\\n) para inserir uma linha em branco entre cada par palavra-significado em sua saída.\n",
    "\n",
    "glossary = {\n",
    "    'string': 'A series of characters.',\n",
    "    'comment': 'A note in a program that the Python interpreter ignores.',\n",
    "    'list': 'A collection of items in a particular order.',\n",
    "    'loop': 'Work through a collection of items, one at a time.',\n",
    "    'dictionary': \"A collection of key-value pairs.\",\n",
    "    }\n",
    "\n",
    "word = 'string'\n",
    "print(f\"\\n{word.title()}: {glossary[word]}\")\n",
    "\n",
    "word = 'comment'\n",
    "print(f\"\\n{word.title()}: {glossary[word]}\")\n",
    "\n",
    "word = 'list'\n",
    "print(f\"\\n{word.title()}: {glossary[word]}\")\n",
    "\n",
    "word = 'loop'\n",
    "print(f\"\\n{word.title()}: {glossary[word]}\")\n",
    "\n",
    "word = 'dictionary'\n",
    "print(f\"\\n{word.title()}: {glossary[word]}\")"
   ]
  },
  {
   "cell_type": "code",
   "execution_count": 3,
   "metadata": {},
   "outputs": [
    {
     "name": "stdout",
     "output_type": "stream",
     "text": [
      "String: A series of characters.\n",
      "Comment: A note in a program that the Python interpreter ignores.\n",
      "List: A collection of items in a particular order.\n",
      "Loop: Work through a collection of items, one at a time.\n",
      "Dictionary: A collection of key-value pairs.\n"
     ]
    }
   ],
   "source": [
    "# 6.4 – Glossário 2: \n",
    "\n",
    "# Agora que você já sabe como percorrer um dicionário com um laço, limpe o código do Exercício 6.3, substituindo sua sequência de instruções print por um laço que percorra as chaves e os valores do dicionário. Quando tiver certeza de que seu laço funciona, acrescente mais cinco termos de Python ao seu glossário. Ao executar seu programa novamente, essas palavras e significados novos deverão ser automaticamente incluídos na saída.\n",
    "\n",
    "glossary = {\n",
    "    'string': 'A series of characters.',\n",
    "    'comment': 'A note in a program that the Python interpreter ignores.',\n",
    "    'list': 'A collection of items in a particular order.',\n",
    "    'loop': 'Work through a collection of items, one at a time.',\n",
    "    'dictionary': \"A collection of key-value pairs.\",\n",
    "    }\n",
    "\n",
    "for word, definition in glossary.items():\n",
    "    print(f'{word.title()}: {definition}')"
   ]
  },
  {
   "cell_type": "code",
   "execution_count": 7,
   "metadata": {},
   "outputs": [
    {
     "name": "stdout",
     "output_type": "stream",
     "text": [
      "O rio Nilo fica no Egito\n",
      "O rio Amazonas fica no Brasil\n",
      "O rio Gangis fica no Índia\n",
      "\n",
      "Os rios inclusos na base de dados são:\n",
      "Nilo\n",
      "Amazonas\n",
      "Gangis\n",
      "\n",
      "Os países inclusos na base de dados são:\n",
      "Egito\n",
      "Brasil\n",
      "Índia\n"
     ]
    }
   ],
   "source": [
    "# 6.5 – Rios: \n",
    "\n",
    "# Crie um dicionário que contenha três rios importantes e o país que cada rio corta. Um par chave-valor poderia ser 'nilo': 'egito'.\n",
    "\n",
    "# Use um laço para exibir uma frase sobre cada rio, por exemplo, O Nilo corre pelo Egito.\n",
    "# Use um laço para exibir o nome de cada rio incluído no dicionário.\n",
    "# Use um laço para exibir o nome de cada país incluído no dicionário.\n",
    "\n",
    "rivers ={\n",
    "    'nilo': 'egito',\n",
    "    'amazonas': 'brasil',\n",
    "    'gangis': 'índia',\n",
    "}\n",
    "\n",
    "for river, country in rivers.items():\n",
    "    print(f'O rio {river.title()} fica no {country.title()}')\n",
    "\n",
    "print('\\nOs rios inclusos na base de dados são:')\n",
    "\n",
    "for river in rivers.keys():\n",
    "    print(river.title())\n",
    "\n",
    "print('\\nOs países inclusos na base de dados são:')\n",
    "\n",
    "for country in rivers.values():\n",
    "    print(country.title())"
   ]
  },
  {
   "cell_type": "code",
   "execution_count": 11,
   "metadata": {},
   "outputs": [
    {
     "name": "stdout",
     "output_type": "stream",
     "text": [
      "Jen's favorite language is Python.\n",
      "Sarah's favorite language is C.\n",
      "Edward's favorite language is Ruby.\n",
      "Phil's favorite language is Python.\n",
      "\n",
      "\n",
      "Thank you for taking the poll, Jen!\n",
      "Thank you for taking the poll, Sarah!\n",
      "Thank you for taking the poll, Edward!\n",
      "Thank you for taking the poll, Phil!\n",
      "Marina, what's your favorite programming language?\n",
      "Otávio, what's your favorite programming language?\n",
      "João, what's your favorite programming language?\n"
     ]
    }
   ],
   "source": [
    "# 6.6 – Enquete: \n",
    "\n",
    "# Utilize o código em favorite_languages.py.\n",
    "\n",
    "# Crie uma lista de pessoas que devam participar da enquete sobre linguage favorita. Inclua alguns nomes que já estejam no dicionário e outros que não estão.\n",
    "# Percorra a lista de pessoas que devem participar da enquete. Se elas já tiverem respondido à enquete, mostre uma mensagem agradecendo-lhes por responder. Se ainda não participaram da enquete, apresente uma mensagem convidando-as a responder.\n",
    "\n",
    "favorite_languages = {\n",
    "    'jen': 'python',\n",
    "    'sarah': 'c',\n",
    "    'edward': 'ruby',\n",
    "    'phil': 'python',\n",
    "    }\n",
    "\n",
    "pessoas = ['jen', 'sarah', 'edward', 'phil', 'marina', 'otávio', 'joão']\n",
    "\n",
    "for name, language in favorite_languages.items():\n",
    "    print(f\"{name.title()}'s favorite language is {language.title()}.\")\n",
    "\n",
    "print(\"\\n\")\n",
    "\n",
    "for pessoa in pessoas:\n",
    "    if pessoa in favorite_languages.keys():\n",
    "        print(f\"Thank you for taking the poll, {pessoa.title()}!\")\n",
    "    else:\n",
    "        print(f\"{pessoa.title()}, what's your favorite programming language?\")\n",
    "               "
   ]
  },
  {
   "cell_type": "code",
   "execution_count": 24,
   "metadata": {},
   "outputs": [
    {
     "name": "stdout",
     "output_type": "stream",
     "text": [
      "Otávio Assumpção mora em São Paulo e tem 21 anos.\n",
      "Marina Cavalari mora em São Paulo e tem 19 anos.\n",
      "João Assumpção mora em Campo Grande e tem 51 anos.\n"
     ]
    }
   ],
   "source": [
    "# 6.7 – Pessoas: \n",
    "\n",
    "# Comece com o programa que você escreveu no Exercício 6.1. Crie dois novos dicionários que representem pessoas diferentes e armazene os três dicionários em uma lista chamada people. Percorra sua lista de pessoas com um laço. À medida que percorrer a lista, apresente tudo que você sabe sobre cada pessoa.\n",
    "\n",
    "people = []\n",
    "\n",
    "person = {\n",
    "    'first_name' : 'Otávio',\n",
    "    'last_name' : 'Assumpção',\n",
    "    'age' : 21,\n",
    "    'city' : 'São Paulo',\n",
    "    }\n",
    "people.append(person)\n",
    "\n",
    "person = {\n",
    "    'first_name' : 'Marina',\n",
    "    'last_name' : 'Cavalari',\n",
    "    'age' : 19,\n",
    "    'city' : 'São Paulo',\n",
    "    }\n",
    "people.append(person)\n",
    "\n",
    "person = {\n",
    "    'first_name' : 'João',\n",
    "    'last_name' : 'Assumpção',\n",
    "    'age' : 51,\n",
    "    'city' : 'Campo Grande',\n",
    "    }\n",
    "people.append(person)\n",
    "\n",
    "for person in people:\n",
    "    name = f'{person['first_name']} {person['last_name']}'\n",
    "    age = f'{person['age']}'\n",
    "    city = f'{person['city']}'\n",
    "    print(f'{name} mora em {city} e tem {age} anos.')"
   ]
  },
  {
   "cell_type": "code",
   "execution_count": 28,
   "metadata": {},
   "outputs": [
    {
     "name": "stdout",
     "output_type": "stream",
     "text": [
      "Otávio tem um cachorro\n",
      "Marina tem um cachorro\n",
      "Pedro tem um gato\n"
     ]
    }
   ],
   "source": [
    "# 6.8 – Animais de estimação: \n",
    "\n",
    "# Crie vários dicionários, em que o nome de cada dicionário seja o nome de um animal de estimação. Em cada dicionário, inclua o tipo do animal e o nome do dono. Armazene esses dicionários em uma lista chamada pets. Em seguida, percorra sua lista com um laço e, à medida que fizer isso, apresente tudo que você sabe sobre cada animal de estimação.\n",
    "\n",
    "pets = []\n",
    "\n",
    "fiuk = {\n",
    "    'espécie': 'cachorro',\n",
    "    'dono': 'Otávio',\n",
    "    }\n",
    "pets.append(fiuk)\n",
    "\n",
    "charlote = {\n",
    "    'espécie': 'cachorro',\n",
    "    'dono': 'Marina',\n",
    "    }\n",
    "pets.append(charlote)\n",
    "\n",
    "tigresa = {\n",
    "    'espécie': 'gato',\n",
    "    'dono': 'Pedro',\n",
    "    }\n",
    "pets.append(tigresa)\n",
    "\n",
    "for pet in pets:\n",
    "    especie = f'{pet['espécie']}'\n",
    "    dono = f'{pet['dono']}'\n",
    "\n",
    "    print(f'{dono} tem um {especie}')"
   ]
  },
  {
   "cell_type": "code",
   "execution_count": 19,
   "metadata": {},
   "outputs": [],
   "source": [
    "# 6.9 – Lugares favoritos: \n",
    "\n",
    "# Crie um dicionário chamado favorite_places. Pense em três nomes para usar como chaves do dicionário e armazene de um a três lugares favoritos para cada pessoa. Para deixar este exercício um pouco mais interessante, peça a alguns amigos que nomeiem alguns de seus lugares favoritos. Percorra o dicionário com um laço e apresente o nome de cada pessoa e seus lugares favoritos.\n",
    "\n",
    "favorite_places ={\n",
    "    'Marina': 'Botucatu',\n",
    "    'Otávio': 'Campo Grande',\n",
    "    'João': 'Belo Horizonte',\n",
    "    }\n",
    "\n"
   ]
  },
  {
   "cell_type": "code",
   "execution_count": 20,
   "metadata": {},
   "outputs": [],
   "source": [
    "# 6.10 – Números favoritos: \n",
    "\n",
    "# Modifique o seu programa do Exercício 6.2 para que cada pessoa possa ter mais de um número favorito. Em seguida, apresente o nome de cada pessoa, juntamente com seus números favoritos.\n"
   ]
  },
  {
   "cell_type": "code",
   "execution_count": 21,
   "metadata": {},
   "outputs": [],
   "source": [
    "# 6.11 – Cidades: \n",
    "\n",
    "# Crie um dicionário chamado cities. Use os nomes de três cidades como chaves em seu dicionário. Crie um dicionário com informações sobre cada cidade e inclua o país em que a cidade está localizada, a população aproximada e um fato sobre essa cidade. As chaves do dicionário de cada cidade devem ser algo como country, population e fact. Apresente o nome de cada idade e todas as informações que você armazenou sobre ela."
   ]
  },
  {
   "cell_type": "code",
   "execution_count": 22,
   "metadata": {},
   "outputs": [],
   "source": [
    "# 6.12 – Extensões: \n",
    "\n",
    "# Estamos trabalhando agora com exemplos complexos o bastante para poderem ser estendidos de várias maneiras. Use um dos programas de exemplo deste capítulo e estenda-o acrescentando novas chaves e valores, alterando o contexto do programa ou melhorando a formatação da saída."
   ]
  }
 ],
 "metadata": {
  "kernelspec": {
   "display_name": "Python 3",
   "language": "python",
   "name": "python3"
  },
  "language_info": {
   "codemirror_mode": {
    "name": "ipython",
    "version": 3
   },
   "file_extension": ".py",
   "mimetype": "text/x-python",
   "name": "python",
   "nbconvert_exporter": "python",
   "pygments_lexer": "ipython3",
   "version": "3.12.0"
  }
 },
 "nbformat": 4,
 "nbformat_minor": 2
}
