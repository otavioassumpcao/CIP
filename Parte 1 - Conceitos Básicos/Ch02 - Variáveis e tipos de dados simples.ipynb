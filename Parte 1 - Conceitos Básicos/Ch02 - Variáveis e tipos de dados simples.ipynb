{
 "cells": [
  {
   "cell_type": "code",
   "execution_count": 13,
   "metadata": {},
   "outputs": [
    {
     "name": "stdout",
     "output_type": "stream",
     "text": [
      "Olá\n"
     ]
    }
   ],
   "source": [
    "# 2.1 – Mensagem simples: \n",
    "# Armazene uma mensagem em uma variável e, em seguida, exiba essa mensagem.\n",
    "\n",
    "mensagem = 'Olá'\n",
    "print(mensagem)"
   ]
  },
  {
   "cell_type": "code",
   "execution_count": 14,
   "metadata": {},
   "outputs": [
    {
     "name": "stdout",
     "output_type": "stream",
     "text": [
      "Olá, tudo bem?\n"
     ]
    }
   ],
   "source": [
    "# 2.2 – Mensagens simples: \n",
    "# Armazene uma mensagem em uma variável e, em seguida, exiba essa mensagem. Então altere o valor de sua variável para uma nova mensagem e mostre essa nova mensagem.\n",
    "\n",
    "mensagem = 'Olá, tudo bem?'\n",
    "print(mensagem)"
   ]
  },
  {
   "cell_type": "code",
   "execution_count": 15,
   "metadata": {},
   "outputs": [
    {
     "name": "stdout",
     "output_type": "stream",
     "text": [
      "Alô Eric, você gostaria de aprender um pouco de Python hoje?\n"
     ]
    }
   ],
   "source": [
    "# 2.3 – Mensagem pessoal: \n",
    "# Armazene o nome de uma pessoa em uma variável eapresente uma mensagem a essa pessoa. Sua mensagem deve ser simples, como “Alô Eric, você gostaria de aprender um pouco de Python hoje?”.\n",
    "\n",
    "nome = 'Eric'\n",
    "print(f'Alô {nome}, você gostaria de aprender um pouco de Python hoje?')"
   ]
  },
  {
   "cell_type": "code",
   "execution_count": 16,
   "metadata": {},
   "outputs": [
    {
     "name": "stdout",
     "output_type": "stream",
     "text": [
      "otávio\n",
      "OTÁVIO\n",
      "Otávio\n"
     ]
    }
   ],
   "source": [
    "#2.4 – Letras maiúsculas e minúsculas em nomes: \n",
    "# Armazene o nome de uma pessoa em uma variável e então apresente o nome dessa pessoa em letras minúsculas, em letras maiúsculas e somente com a primeira letra maiúscula.\n",
    "\n",
    "nome = 'otáVio'\n",
    "\n",
    "print(nome.lower())\n",
    "print(nome.upper())\n",
    "print(nome.title())"
   ]
  },
  {
   "cell_type": "code",
   "execution_count": 17,
   "metadata": {},
   "outputs": [
    {
     "name": "stdout",
     "output_type": "stream",
     "text": [
      "Albert Einstein certa vez disse: “Uma pessoa que nunca cometeu um erro jamais tentou nada novo.”\n"
     ]
    }
   ],
   "source": [
    "#2.5 – Citação famosa: \n",
    "# Encontre uma citação de uma pessoa famosa que vocêadmire. Exiba a citação e o nome do autor. Sua saída deverá ter a aparência a seguir, incluindo as aspas: Albert Einstein certa vez disse: “Uma pessoa que nunca cometeu um erro jamais tentou nada novo.”\n",
    "\n",
    "print('Albert Einstein certa vez disse: “Uma pessoa que nunca cometeu um erro jamais tentou nada novo.”')"
   ]
  },
  {
   "cell_type": "code",
   "execution_count": 21,
   "metadata": {},
   "outputs": [
    {
     "name": "stdout",
     "output_type": "stream",
     "text": [
      "Albert Einstein certa vez disse: “Uma pessoa que nunca cometeu um erro jamais tentou nada novo.”\n"
     ]
    }
   ],
   "source": [
    "# 2.6 – Citação famosa 2: \n",
    "# Repita o Exercício 2.5, porém, desta vez, armazene o nome da pessoa famosa em uma variável chamada famous_person. Em seguida, componha sua mensagem e armazene-a em uma nova variável chamada message. Exiba sua mensagem.\n",
    "\n",
    "famous_person = 'albert einstein'\n",
    "message = 'Uma pessoa que nunca cometeu um erro jamais tentou nada novo.'\n",
    "\n",
    "print(f'{famous_person.title()} certa vez disse: “{message}”')"
   ]
  },
  {
   "cell_type": "code",
   "execution_count": 36,
   "metadata": {},
   "outputs": [
    {
     "name": "stdout",
     "output_type": "stream",
     "text": [
      "\tNome com os espaços: \"    Otávio   \"\n",
      "\tNome sem os espaços da esquerda: \"Otávio   \"\n",
      "\tNome sem os espaços da direita: \"    Otávio\"\n",
      "\tNome sem os espaços: \"Otávio\"\n"
     ]
    }
   ],
   "source": [
    "# 2.7 – Removendo caracteres em branco de nomes: \n",
    "# Armazene o nome de uma pessoa e inclua alguns caracteres em branco no início e no final do nome. Lembre-se de usar cada combinação de caracteres, \"\\t\" e \"\\n\", pelo menos uma vez. Exiba o nome uma vez, de modo que os espaços em branco em torno do nome sejam mostrados. Em seguida, exiba o nome usando cada uma das três funções de remoção de espaços: lstrip(), rstrip() e strip().\n",
    "\n",
    "person = '    Otávio   '\n",
    "\n",
    "print(f'\\tNome com os espaços: \"{person}\"\\n'\n",
    "      f'\\tNome sem os espaços da esquerda: \"{person.lstrip()}\"\\n'\n",
    "      f'\\tNome sem os espaços da direita: \"{person.rstrip()}\"\\n'\n",
    "      f'\\tNome sem os espaços: \"{person.strip()}\"')"
   ]
  },
  {
   "cell_type": "code",
   "execution_count": 40,
   "metadata": {},
   "outputs": [
    {
     "name": "stdout",
     "output_type": "stream",
     "text": [
      "8\n",
      "8\n",
      "8\n",
      "8\n"
     ]
    }
   ],
   "source": [
    "# 2.8 – Número oito: \n",
    "# Escreva operações de adição, subtração, multiplicação e divisão que resultem no número 8. Lembre-se de colocar suas operações em instruções print para ver os resultados. Você deve criar quatro linhas como esta: print(5 + 3). Sua saída deve simplesmente ser composta de quatro linhas, com o número 8 em cada uma das linhas.\n",
    "\n",
    "print(5 + 3)\n",
    "print(10 - 2)\n",
    "print(4 * 2)\n",
    "print(1 * 8)"
   ]
  },
  {
   "cell_type": "code",
   "execution_count": 42,
   "metadata": {},
   "outputs": [
    {
     "name": "stdout",
     "output_type": "stream",
     "text": [
      "Meu número favorito é o número 8.\n"
     ]
    }
   ],
   "source": [
    "# 2.9 – Número favorito: \n",
    "# Armazene seu número favorito em uma variável. Em seguida, usando essa variável, crie uma mensagem que revele o seu número favorito. Exiba essa mensagem.\n",
    "\n",
    "fav_num = 8\n",
    "\n",
    "print(f'Meu número favorito é o número {fav_num}.')"
   ]
  },
  {
   "cell_type": "code",
   "execution_count": null,
   "metadata": {},
   "outputs": [],
   "source": [
    "# 2.10 – Acrescentando comentários: Escolha dois dos programas que você escreveu e acrescente pelo menos um comentário em cada um. Se você não tiver nada específico para escrever porque o programa é muito simples no momento, basta adicionar seu nome e a data de hoje no início de cada arquivo de programa. Em seguida, escreva uma frase que descreva o que o programa faz."
   ]
  },
  {
   "cell_type": "code",
   "execution_count": 43,
   "metadata": {},
   "outputs": [
    {
     "name": "stdout",
     "output_type": "stream",
     "text": [
      "The Zen of Python, by Tim Peters\n",
      "\n",
      "Beautiful is better than ugly.\n",
      "Explicit is better than implicit.\n",
      "Simple is better than complex.\n",
      "Complex is better than complicated.\n",
      "Flat is better than nested.\n",
      "Sparse is better than dense.\n",
      "Readability counts.\n",
      "Special cases aren't special enough to break the rules.\n",
      "Although practicality beats purity.\n",
      "Errors should never pass silently.\n",
      "Unless explicitly silenced.\n",
      "In the face of ambiguity, refuse the temptation to guess.\n",
      "There should be one-- and preferably only one --obvious way to do it.\n",
      "Although that way may not be obvious at first unless you're Dutch.\n",
      "Now is better than never.\n",
      "Although never is often better than *right* now.\n",
      "If the implementation is hard to explain, it's a bad idea.\n",
      "If the implementation is easy to explain, it may be a good idea.\n",
      "Namespaces are one honking great idea -- let's do more of those!\n"
     ]
    }
   ],
   "source": [
    "# 2.11 – Zen de Python: \n",
    "# Digite import this em uma sessão de terminal de Python e dê uma olhada nos princípios adicionais.\n",
    "\n",
    "import this"
   ]
  }
 ],
 "metadata": {
  "kernelspec": {
   "display_name": "Python 3",
   "language": "python",
   "name": "python3"
  },
  "language_info": {
   "codemirror_mode": {
    "name": "ipython",
    "version": 3
   },
   "file_extension": ".py",
   "mimetype": "text/x-python",
   "name": "python",
   "nbconvert_exporter": "python",
   "pygments_lexer": "ipython3",
   "version": "3.12.0"
  }
 },
 "nbformat": 4,
 "nbformat_minor": 2
}
